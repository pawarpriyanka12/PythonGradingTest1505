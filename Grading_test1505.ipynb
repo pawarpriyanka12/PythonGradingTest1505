{
 "cells": [
  {
   "cell_type": "markdown",
   "id": "6acf78d7",
   "metadata": {},
   "source": [
    "1.A Lambda Function is a _________function"
   ]
  },
  {
   "cell_type": "markdown",
   "id": "5bde76db",
   "metadata": {},
   "source": [
    "Anonymous function\n"
   ]
  },
  {
   "cell_type": "markdown",
   "id": "03d99fb7",
   "metadata": {},
   "source": [
    "2.Why would you use the pass statement ?"
   ]
  },
  {
   "cell_type": "markdown",
   "id": "49761884",
   "metadata": {},
   "source": [
    "All of the above"
   ]
  },
  {
   "cell_type": "markdown",
   "id": "a76090d0",
   "metadata": {},
   "source": [
    "3.What is MRO in Python?"
   ]
  },
  {
   "cell_type": "markdown",
   "id": "f7e95650",
   "metadata": {},
   "source": [
    "Machine learning repository\n"
   ]
  },
  {
   "cell_type": "markdown",
   "id": "ee6a1b1c",
   "metadata": {},
   "source": [
    "4.What is self in Python?"
   ]
  },
  {
   "cell_type": "markdown",
   "id": "2eff9a11",
   "metadata": {},
   "source": [
    "All of the above"
   ]
  },
  {
   "cell_type": "markdown",
   "id": "60356b5e",
   "metadata": {},
   "source": [
    "5.What is __init__?"
   ]
  },
  {
   "cell_type": "markdown",
   "id": "bc693153",
   "metadata": {},
   "source": [
    "Constructor method in python"
   ]
  },
  {
   "cell_type": "markdown",
   "id": "5dd4a8f4",
   "metadata": {},
   "source": [
    "6.What does * indicate in regular expression?\n"
   ]
  },
  {
   "cell_type": "markdown",
   "id": "f074f98a",
   "metadata": {},
   "source": [
    "Zero or more occurrences"
   ]
  },
  {
   "cell_type": "markdown",
   "id": "1b081f9d",
   "metadata": {},
   "source": [
    "7.What is break and continue in python? Explain with example"
   ]
  },
  {
   "cell_type": "markdown",
   "id": "b3f8b4c3",
   "metadata": {},
   "source": [
    "The break statement :it can be used if you need to break out of a for or while loop and move onto the next section of code.\n",
    "\n"
   ]
  },
  {
   "cell_type": "code",
   "execution_count": 4,
   "id": "02b2bc15",
   "metadata": {},
   "outputs": [
    {
     "name": "stdout",
     "output_type": "stream",
     "text": [
      "letter : s\n",
      "letter : y\n",
      "letter : m\n",
      "letter : b\n",
      "letter : i\n",
      "letter : o\n",
      "letter : s\n",
      "letter : i\n",
      "letter : s\n"
     ]
    }
   ],
   "source": [
    "for letter in 'symbiosis':\n",
    "    print('letter :', letter)"
   ]
  },
  {
   "cell_type": "code",
   "execution_count": 6,
   "id": "5503b521",
   "metadata": {},
   "outputs": [
    {
     "name": "stdout",
     "output_type": "stream",
     "text": [
      "letter : s\n",
      "letter : y\n",
      "letter : m\n",
      "letter : b\n",
      "letter : i\n"
     ]
    }
   ],
   "source": [
    "for letter in 'symbiosis':\n",
    "    if letter == \"o\":\n",
    "        break\n",
    "    print('letter :', letter)"
   ]
  },
  {
   "cell_type": "markdown",
   "id": "086c6bdd",
   "metadata": {},
   "source": [
    "The continue statement : it can be used if you need to skip the current iteration of a for or while loop and move onto the next iteration."
   ]
  },
  {
   "cell_type": "code",
   "execution_count": 10,
   "id": "f14daec3",
   "metadata": {},
   "outputs": [
    {
     "name": "stdout",
     "output_type": "stream",
     "text": [
      "a\n",
      "n\n",
      "u\n",
      "a\n",
      "m\n"
     ]
    }
   ],
   "source": [
    "for letter in \"anupam\":\n",
    "    if letter == \"p\":\n",
    "        continue\n",
    "    print(letter)"
   ]
  },
  {
   "cell_type": "markdown",
   "id": "0b647329",
   "metadata": {},
   "source": [
    "8.What are Dict and List comprehensions? Give atleast one example(code)"
   ]
  },
  {
   "cell_type": "markdown",
   "id": "9590e997",
   "metadata": {},
   "source": [
    "List comprehensions and dictionary comprehensions are concise ways of creating lists and dictionaries in Python."
   ]
  },
  {
   "cell_type": "code",
   "execution_count": 74,
   "id": "88c6bef8",
   "metadata": {},
   "outputs": [
    {
     "name": "stdout",
     "output_type": "stream",
     "text": [
      "['apple', 'banana', 'mango']\n"
     ]
    }
   ],
   "source": [
    "fruits = [\"apple\", \"banana\", \"cherry\", \"kiwi\", \"mango\"]\n",
    "newlist = [x for x in fruits if \"a\" in x]\n",
    "print(newlist)"
   ]
  },
  {
   "cell_type": "code",
   "execution_count": 75,
   "id": "65101ca2",
   "metadata": {},
   "outputs": [
    {
     "name": "stdout",
     "output_type": "stream",
     "text": [
      "{'1': 1, '2': 2, '3': 3, '4': 4, '5': 5}\n"
     ]
    }
   ],
   "source": [
    "numbers = [1, 2, 3, 4, 5]\n",
    "newdict = {str(i): i for i in numbers}\n",
    "print(newdict)"
   ]
  },
  {
   "cell_type": "markdown",
   "id": "2adb4eef",
   "metadata": {},
   "source": [
    "#In this example, we create a new dictionary called newdict that contains the string value of each number as the key and the number itself as the value."
   ]
  },
  {
   "cell_type": "markdown",
   "id": "da44a6f7",
   "metadata": {},
   "source": [
    "9.How do you create a class in Python?"
   ]
  },
  {
   "cell_type": "code",
   "execution_count": 11,
   "id": "fbaa04e1",
   "metadata": {},
   "outputs": [],
   "source": [
    "class Employee:    \n",
    "    id = 10   \n",
    "    name = \"priya\"    \n",
    "    def display (self):    \n",
    "        print(self.id,self.name)  "
   ]
  },
  {
   "cell_type": "code",
   "execution_count": 12,
   "id": "48975f20",
   "metadata": {},
   "outputs": [
    {
     "name": "stdout",
     "output_type": "stream",
     "text": [
      "10 priya\n"
     ]
    }
   ],
   "source": [
    "emp = Employee()    \n",
    "emp.display()    "
   ]
  },
  {
   "cell_type": "markdown",
   "id": "79028323",
   "metadata": {},
   "source": [
    "10.What is inheritance ?Give  one example "
   ]
  },
  {
   "cell_type": "markdown",
   "id": "58ce0f91",
   "metadata": {},
   "source": [
    "In inheritance the child class acquires the properties and can access all the data members and functions defined in the parent class."
   ]
  },
  {
   "cell_type": "code",
   "execution_count": 13,
   "id": "f7bb1637",
   "metadata": {},
   "outputs": [
    {
     "name": "stdout",
     "output_type": "stream",
     "text": [
      "dog barking\n",
      "Animal Speaking\n"
     ]
    }
   ],
   "source": [
    "class Animal: \n",
    "    def speak(self):  \n",
    "        print(\"Animal Speaking\")  \n",
    "class Dog(Animal):  \n",
    "    def bark(self):  \n",
    "        print(\"dog barking\")  \n",
    "d = Dog()  \n",
    "d.bark()  \n",
    "d.speak()"
   ]
  },
  {
   "cell_type": "markdown",
   "id": "742a3c35",
   "metadata": {},
   "source": [
    "11.What is polymorphism? Give one example"
   ]
  },
  {
   "cell_type": "markdown",
   "id": "3b97bd51",
   "metadata": {},
   "source": [
    "Polymorphism: it can perform a single action in different ways.\n",
    "              same method name but passing differnt parameter.\n",
    "              Polymorphism in Python is achieved through method overriding. \n",
    "              In this case, a subclass provides a specific implementation of a method that is already provided by its parent class"
   ]
  },
  {
   "cell_type": "code",
   "execution_count": 71,
   "id": "cee32552",
   "metadata": {},
   "outputs": [
    {
     "name": "stdout",
     "output_type": "stream",
     "text": [
      "39\n",
      "597\n"
     ]
    }
   ],
   "source": [
    "#method overloading:\n",
    "def add(p, q, r = 0):  \n",
    "    return p + q + r  \n",
    " \n",
    "print (add(16, 23))  \n",
    "print (add(22, 31, 544)) \n",
    "  "
   ]
  },
  {
   "cell_type": "markdown",
   "id": "64d12ebe",
   "metadata": {},
   "source": [
    "12.Difference between multilevel and multiple inheritance?\n"
   ]
  },
  {
   "cell_type": "markdown",
   "id": "90f879e5",
   "metadata": {},
   "source": [
    "mulitilevel:\n"
   ]
  },
  {
   "cell_type": "code",
   "execution_count": 34,
   "id": "5685fd26",
   "metadata": {},
   "outputs": [
    {
     "name": "stdout",
     "output_type": "stream",
     "text": [
      "dog barking\n",
      "Animal Speaking\n",
      "Eating bread...\n"
     ]
    }
   ],
   "source": [
    "class Animal:  \n",
    "    def speak(self):  \n",
    "        print(\"Animal Speaking\")  \n",
    "  \n",
    "class Dog(Animal):  \n",
    "    def bark(self):  \n",
    "        print(\"dog barking\")  \n",
    "\n",
    "class DogChild(Dog):  \n",
    "    def eat(self):  \n",
    "        print(\"Eating bread...\")  \n",
    "d = DogChild()  \n",
    "d.bark()  \n",
    "d.speak()  \n",
    "d.eat()  \n"
   ]
  },
  {
   "cell_type": "markdown",
   "id": "ea5b3c53",
   "metadata": {},
   "source": [
    "In this example, we have three classes: Animal, Dog, and Dogchild. The Dog class inherits from the Animal class and overrides the sound() method. The Dogchild class inherits from the Dog class and overrides the sound() method again."
   ]
  },
  {
   "cell_type": "markdown",
   "id": "55a09bd8",
   "metadata": {},
   "source": [
    "# Multiple inheritance"
   ]
  },
  {
   "cell_type": "code",
   "execution_count": 36,
   "id": "80d77044",
   "metadata": {},
   "outputs": [
    {
     "name": "stdout",
     "output_type": "stream",
     "text": [
      "30\n",
      "200\n",
      "0.5\n"
     ]
    }
   ],
   "source": [
    "class Cal1:  \n",
    "    def Sum(self,a,b):  \n",
    "        return a+b;  \n",
    "class Cal2:  \n",
    "    def Multi(self,a,b):  \n",
    "        return a*b;  \n",
    "class Derived(Cal1,Cal2):  \n",
    "    def Div(self,a,b):  \n",
    "        return a/b;  \n",
    "d = Derived()  \n",
    "print(d.Sum(10,20))  \n",
    "print(d.Multi(10,20))  \n",
    "print(d.Div(10,20))"
   ]
  },
  {
   "cell_type": "markdown",
   "id": "70ee865a",
   "metadata": {},
   "source": [
    "13.Create a 1D,2D and 3D array?"
   ]
  },
  {
   "cell_type": "markdown",
   "id": "a1187fde",
   "metadata": {},
   "source": [
    "# 1D array"
   ]
  },
  {
   "cell_type": "code",
   "execution_count": 37,
   "id": "17093610",
   "metadata": {},
   "outputs": [
    {
     "name": "stdout",
     "output_type": "stream",
     "text": [
      "[100 200 300 400]\n"
     ]
    }
   ],
   "source": [
    "import numpy as np\n",
    " \n",
    "\n",
    "list = [100, 200, 300, 400]\n",
    " \n",
    "\n",
    "n = np.array(list)\n",
    "print(n)"
   ]
  },
  {
   "cell_type": "markdown",
   "id": "32070259",
   "metadata": {},
   "source": [
    "# 2D array"
   ]
  },
  {
   "cell_type": "code",
   "execution_count": 42,
   "id": "4d4e3e1a",
   "metadata": {},
   "outputs": [],
   "source": [
    "array = np.arange(20)\n",
    "\n"
   ]
  },
  {
   "cell_type": "code",
   "execution_count": 43,
   "id": "27bdd513",
   "metadata": {},
   "outputs": [
    {
     "data": {
      "text/plain": [
       "array([ 0,  1,  2,  3,  4,  5,  6,  7,  8,  9, 10, 11, 12, 13, 14, 15, 16,\n",
       "       17, 18, 19])"
      ]
     },
     "execution_count": 43,
     "metadata": {},
     "output_type": "execute_result"
    }
   ],
   "source": [
    "array"
   ]
  },
  {
   "cell_type": "code",
   "execution_count": 44,
   "id": "cc160571",
   "metadata": {},
   "outputs": [
    {
     "data": {
      "text/plain": [
       "(20,)"
      ]
     },
     "execution_count": 44,
     "metadata": {},
     "output_type": "execute_result"
    }
   ],
   "source": [
    "array.shape"
   ]
  },
  {
   "cell_type": "code",
   "execution_count": 45,
   "id": "b6ff4092",
   "metadata": {},
   "outputs": [
    {
     "data": {
      "text/plain": [
       "array([[ 0,  1,  2,  3,  4],\n",
       "       [ 5,  6,  7,  8,  9],\n",
       "       [10, 11, 12, 13, 14],\n",
       "       [15, 16, 17, 18, 19]])"
      ]
     },
     "execution_count": 45,
     "metadata": {},
     "output_type": "execute_result"
    }
   ],
   "source": [
    "array = np.arange(20).reshape(4,5)\n",
    "array"
   ]
  },
  {
   "cell_type": "markdown",
   "id": "8cd04390",
   "metadata": {},
   "source": [
    "# 3d array:"
   ]
  },
  {
   "cell_type": "code",
   "execution_count": 50,
   "id": "b42bf376",
   "metadata": {},
   "outputs": [
    {
     "name": "stdout",
     "output_type": "stream",
     "text": [
      "(2, 2, 3)\n",
      "[[[1 1 2]\n",
      "  [2 3 3]]\n",
      "\n",
      " [[1 1 1]\n",
      "  [1 1 1]]]\n"
     ]
    }
   ],
   "source": [
    "x = np.array([[[1,1,2], [2,3,3]], [[1,1,1], [1,1,1]]])\n",
    "print(x.shape)\n",
    "print(x)"
   ]
  },
  {
   "cell_type": "markdown",
   "id": "6aa873a1",
   "metadata": {},
   "source": [
    "14.How will you reverse the numpy array using one line of code?"
   ]
  },
  {
   "cell_type": "code",
   "execution_count": 48,
   "id": "19a938b9",
   "metadata": {},
   "outputs": [
    {
     "name": "stdout",
     "output_type": "stream",
     "text": [
      "[4 2 7 6 1 5 2]\n"
     ]
    }
   ],
   "source": [
    "import numpy as np\n",
    "arr = np.array([2, 5, 1, 6, 7, 2, 4])\n",
    "reve_arr = arr[::-1]\n",
    "print(reve_arr)"
   ]
  },
  {
   "cell_type": "markdown",
   "id": "ac5607d7",
   "metadata": {},
   "source": [
    "15.What advantages do NumPy arrays offer over  Python lists?\n"
   ]
  },
  {
   "cell_type": "markdown",
   "id": "cd38514f",
   "metadata": {},
   "source": [
    "NumPy arrays offer several advantages over Python lists. \n",
    "\n",
    "More Powerful Slicing and Broadcasting Functionality: In contrast to regular slicing, NumPy slicing is a bit more powerful.\n",
    "It allows you to slice arrays with more dimensions than Python lists.\n",
    "\n",
    "Consumes less memory: NumPy arrays consume less memory as compared to Python lists.\n",
    "\n",
    "Fast as compared to the Python List: NumPy is faster than Python lists because it is written in C language which is faster than Python.\n",
    "\n",
    "Convenient to use: NumPy provides a lot of convenience functions for performing mathematical operations on arrays."
   ]
  },
  {
   "cell_type": "code",
   "execution_count": null,
   "id": "85135aaa",
   "metadata": {},
   "outputs": [],
   "source": [
    "16.python3 code to print the below pattern\n",
    "\n",
    "*\n",
    "**\n",
    "***"
   ]
  },
  {
   "cell_type": "code",
   "execution_count": 51,
   "id": "c305dda5",
   "metadata": {},
   "outputs": [
    {
     "name": "stdout",
     "output_type": "stream",
     "text": [
      "*\n",
      "**\n",
      "***\n"
     ]
    }
   ],
   "source": [
    "for i in range(1, 4):\n",
    "    for j in range(i):\n",
    "        print(\"*\", end=\"\")\n",
    "    print()"
   ]
  },
  {
   "cell_type": "markdown",
   "id": "dcc92465",
   "metadata": {},
   "source": [
    "16.Draw insights from the dataset provided using suitable visualization libraries.(6*4 = 24)\n",
    "\n",
    "\n",
    "\n",
    "1.Load the \"Diamonds dataset \" from seaborn library\n",
    "\n",
    "Dataset desciption:\n",
    "(carat: weight of the diamond\n",
    "cut: (Fair, Good, Very Good, Premium, Ideal) ordinal\n",
    "color: J (worst) to D (best) ordinal\n",
    "clarity: [I1 (worst), SI2, SI1, VS2, VS1, VVS2, VVS1, IF (best)]\n",
    "depth: z / (mean(x,y)) = 2*z / (x+y) in percentage\n",
    "table: percentage of width on the top relative to width\n",
    "price: given in US Dollars\n",
    "x: length in mm\n",
    "y: width in mm\n",
    "z: depth in mm)\n",
    "\n",
    "2.Which column has highest correlation with the target variable?(Graphs)\n",
    "\n",
    "3.Find the outliers in each column?Use suitable graphs\n",
    "\n",
    "4.what is the count of premium diamonds in the dataset?\n",
    "\n",
    "5.What is the average price of diamonds?\n",
    "\n",
    "6.Create a new column called \"size = x*y*z"
   ]
  },
  {
   "cell_type": "code",
   "execution_count": 60,
   "id": "9f44ee63",
   "metadata": {},
   "outputs": [],
   "source": [
    "import pandas as pd\n",
    "import matplotlib.pyplot as plt\n",
    "%matplotlib inline\n",
    "import seaborn as sns"
   ]
  },
  {
   "cell_type": "code",
   "execution_count": 61,
   "id": "584a06b6",
   "metadata": {},
   "outputs": [],
   "source": [
    "diamonds = sns.load_dataset('diamonds')"
   ]
  },
  {
   "cell_type": "code",
   "execution_count": 62,
   "id": "79ae707c",
   "metadata": {},
   "outputs": [
    {
     "data": {
      "text/html": [
       "<div>\n",
       "<style scoped>\n",
       "    .dataframe tbody tr th:only-of-type {\n",
       "        vertical-align: middle;\n",
       "    }\n",
       "\n",
       "    .dataframe tbody tr th {\n",
       "        vertical-align: top;\n",
       "    }\n",
       "\n",
       "    .dataframe thead th {\n",
       "        text-align: right;\n",
       "    }\n",
       "</style>\n",
       "<table border=\"1\" class=\"dataframe\">\n",
       "  <thead>\n",
       "    <tr style=\"text-align: right;\">\n",
       "      <th></th>\n",
       "      <th>carat</th>\n",
       "      <th>cut</th>\n",
       "      <th>color</th>\n",
       "      <th>clarity</th>\n",
       "      <th>depth</th>\n",
       "      <th>table</th>\n",
       "      <th>price</th>\n",
       "      <th>x</th>\n",
       "      <th>y</th>\n",
       "      <th>z</th>\n",
       "    </tr>\n",
       "  </thead>\n",
       "  <tbody>\n",
       "    <tr>\n",
       "      <th>0</th>\n",
       "      <td>0.23</td>\n",
       "      <td>Ideal</td>\n",
       "      <td>E</td>\n",
       "      <td>SI2</td>\n",
       "      <td>61.5</td>\n",
       "      <td>55.0</td>\n",
       "      <td>326</td>\n",
       "      <td>3.95</td>\n",
       "      <td>3.98</td>\n",
       "      <td>2.43</td>\n",
       "    </tr>\n",
       "    <tr>\n",
       "      <th>1</th>\n",
       "      <td>0.21</td>\n",
       "      <td>Premium</td>\n",
       "      <td>E</td>\n",
       "      <td>SI1</td>\n",
       "      <td>59.8</td>\n",
       "      <td>61.0</td>\n",
       "      <td>326</td>\n",
       "      <td>3.89</td>\n",
       "      <td>3.84</td>\n",
       "      <td>2.31</td>\n",
       "    </tr>\n",
       "    <tr>\n",
       "      <th>2</th>\n",
       "      <td>0.23</td>\n",
       "      <td>Good</td>\n",
       "      <td>E</td>\n",
       "      <td>VS1</td>\n",
       "      <td>56.9</td>\n",
       "      <td>65.0</td>\n",
       "      <td>327</td>\n",
       "      <td>4.05</td>\n",
       "      <td>4.07</td>\n",
       "      <td>2.31</td>\n",
       "    </tr>\n",
       "    <tr>\n",
       "      <th>3</th>\n",
       "      <td>0.29</td>\n",
       "      <td>Premium</td>\n",
       "      <td>I</td>\n",
       "      <td>VS2</td>\n",
       "      <td>62.4</td>\n",
       "      <td>58.0</td>\n",
       "      <td>334</td>\n",
       "      <td>4.20</td>\n",
       "      <td>4.23</td>\n",
       "      <td>2.63</td>\n",
       "    </tr>\n",
       "    <tr>\n",
       "      <th>4</th>\n",
       "      <td>0.31</td>\n",
       "      <td>Good</td>\n",
       "      <td>J</td>\n",
       "      <td>SI2</td>\n",
       "      <td>63.3</td>\n",
       "      <td>58.0</td>\n",
       "      <td>335</td>\n",
       "      <td>4.34</td>\n",
       "      <td>4.35</td>\n",
       "      <td>2.75</td>\n",
       "    </tr>\n",
       "    <tr>\n",
       "      <th>...</th>\n",
       "      <td>...</td>\n",
       "      <td>...</td>\n",
       "      <td>...</td>\n",
       "      <td>...</td>\n",
       "      <td>...</td>\n",
       "      <td>...</td>\n",
       "      <td>...</td>\n",
       "      <td>...</td>\n",
       "      <td>...</td>\n",
       "      <td>...</td>\n",
       "    </tr>\n",
       "    <tr>\n",
       "      <th>53935</th>\n",
       "      <td>0.72</td>\n",
       "      <td>Ideal</td>\n",
       "      <td>D</td>\n",
       "      <td>SI1</td>\n",
       "      <td>60.8</td>\n",
       "      <td>57.0</td>\n",
       "      <td>2757</td>\n",
       "      <td>5.75</td>\n",
       "      <td>5.76</td>\n",
       "      <td>3.50</td>\n",
       "    </tr>\n",
       "    <tr>\n",
       "      <th>53936</th>\n",
       "      <td>0.72</td>\n",
       "      <td>Good</td>\n",
       "      <td>D</td>\n",
       "      <td>SI1</td>\n",
       "      <td>63.1</td>\n",
       "      <td>55.0</td>\n",
       "      <td>2757</td>\n",
       "      <td>5.69</td>\n",
       "      <td>5.75</td>\n",
       "      <td>3.61</td>\n",
       "    </tr>\n",
       "    <tr>\n",
       "      <th>53937</th>\n",
       "      <td>0.70</td>\n",
       "      <td>Very Good</td>\n",
       "      <td>D</td>\n",
       "      <td>SI1</td>\n",
       "      <td>62.8</td>\n",
       "      <td>60.0</td>\n",
       "      <td>2757</td>\n",
       "      <td>5.66</td>\n",
       "      <td>5.68</td>\n",
       "      <td>3.56</td>\n",
       "    </tr>\n",
       "    <tr>\n",
       "      <th>53938</th>\n",
       "      <td>0.86</td>\n",
       "      <td>Premium</td>\n",
       "      <td>H</td>\n",
       "      <td>SI2</td>\n",
       "      <td>61.0</td>\n",
       "      <td>58.0</td>\n",
       "      <td>2757</td>\n",
       "      <td>6.15</td>\n",
       "      <td>6.12</td>\n",
       "      <td>3.74</td>\n",
       "    </tr>\n",
       "    <tr>\n",
       "      <th>53939</th>\n",
       "      <td>0.75</td>\n",
       "      <td>Ideal</td>\n",
       "      <td>D</td>\n",
       "      <td>SI2</td>\n",
       "      <td>62.2</td>\n",
       "      <td>55.0</td>\n",
       "      <td>2757</td>\n",
       "      <td>5.83</td>\n",
       "      <td>5.87</td>\n",
       "      <td>3.64</td>\n",
       "    </tr>\n",
       "  </tbody>\n",
       "</table>\n",
       "<p>53940 rows × 10 columns</p>\n",
       "</div>"
      ],
      "text/plain": [
       "       carat        cut color clarity  depth  table  price     x     y     z\n",
       "0       0.23      Ideal     E     SI2   61.5   55.0    326  3.95  3.98  2.43\n",
       "1       0.21    Premium     E     SI1   59.8   61.0    326  3.89  3.84  2.31\n",
       "2       0.23       Good     E     VS1   56.9   65.0    327  4.05  4.07  2.31\n",
       "3       0.29    Premium     I     VS2   62.4   58.0    334  4.20  4.23  2.63\n",
       "4       0.31       Good     J     SI2   63.3   58.0    335  4.34  4.35  2.75\n",
       "...      ...        ...   ...     ...    ...    ...    ...   ...   ...   ...\n",
       "53935   0.72      Ideal     D     SI1   60.8   57.0   2757  5.75  5.76  3.50\n",
       "53936   0.72       Good     D     SI1   63.1   55.0   2757  5.69  5.75  3.61\n",
       "53937   0.70  Very Good     D     SI1   62.8   60.0   2757  5.66  5.68  3.56\n",
       "53938   0.86    Premium     H     SI2   61.0   58.0   2757  6.15  6.12  3.74\n",
       "53939   0.75      Ideal     D     SI2   62.2   55.0   2757  5.83  5.87  3.64\n",
       "\n",
       "[53940 rows x 10 columns]"
      ]
     },
     "execution_count": 62,
     "metadata": {},
     "output_type": "execute_result"
    }
   ],
   "source": [
    "diamonds"
   ]
  },
  {
   "cell_type": "markdown",
   "id": "941934b5",
   "metadata": {},
   "source": [
    "# Which column has highest correlation with the target variable?(Graphs)"
   ]
  },
  {
   "cell_type": "code",
   "execution_count": 80,
   "id": "a168b263",
   "metadata": {},
   "outputs": [
    {
     "name": "stderr",
     "output_type": "stream",
     "text": [
      "C:\\Users\\pawar\\AppData\\Local\\Temp\\ipykernel_7656\\1945294086.py:1: FutureWarning: The default value of numeric_only in DataFrame.corr is deprecated. In a future version, it will default to False. Select only valid columns or specify the value of numeric_only to silence this warning.\n",
      "  corr = diamonds.corr()\n"
     ]
    },
    {
     "data": {
      "image/png": "[encoded data removed]",
      "text/plain": [
       "<Figure size 640x480 with 2 Axes>"
      ]
     },
     "metadata": {},
     "output_type": "display_data"
    }
   ],
   "source": [
    "corr = diamonds.corr()\n",
    "sns.heatmap(corr, annot=True, cmap='coolwarm')\n",
    "plt.show()"
   ]
  },
  {
   "cell_type": "markdown",
   "id": "bcd8c4b1",
   "metadata": {},
   "source": [
    "# Find the outliers in each column?Use suitable graphs"
   ]
  },
  {
   "cell_type": "code",
   "execution_count": 59,
   "id": "e8ede8f2",
   "metadata": {},
   "outputs": [
    {
     "data": {
      "text/plain": [
       "<Axes: >"
      ]
     },
     "execution_count": 59,
     "metadata": {},
     "output_type": "execute_result"
    },
    {
     "data": {
      "image/png": "[encoded data removed]",
      "text/plain": [
       "<Figure size 640x480 with 1 Axes>"
      ]
     },
     "metadata": {},
     "output_type": "display_data"
    }
   ],
   "source": [
    "sns.boxplot(data=diamonds)"
   ]
  },
  {
   "cell_type": "code",
   "execution_count": 68,
   "id": "912063e9",
   "metadata": {},
   "outputs": [
    {
     "data": {
      "image/png": "[encoded data removed]",
      "text/plain": [
       "<Figure size 640x480 with 1 Axes>"
      ]
     },
     "metadata": {},
     "output_type": "display_data"
    }
   ],
   "source": [
    "sns.boxplot(x=diamonds['carat'])\n",
    "plt.show()"
   ]
  },
  {
   "cell_type": "code",
   "execution_count": 69,
   "id": "90607f53",
   "metadata": {},
   "outputs": [
    {
     "data": {
      "image/png": "[encoded data removed]",
      "text/plain": [
       "<Figure size 640x480 with 1 Axes>"
      ]
     },
     "metadata": {},
     "output_type": "display_data"
    }
   ],
   "source": [
    "sns.boxplot(x=diamonds['table'])\n",
    "plt.show()"
   ]
  },
  {
   "cell_type": "code",
   "execution_count": 72,
   "id": "7777d6f2",
   "metadata": {},
   "outputs": [
    {
     "data": {
      "image/png": "[encoded data removed]",
      "text/plain": [
       "<Figure size 640x480 with 1 Axes>"
      ]
     },
     "metadata": {},
     "output_type": "display_data"
    }
   ],
   "source": [
    "sns.boxplot(x=diamonds['depth'])\n",
    "plt.show()"
   ]
  },
  {
   "cell_type": "code",
   "execution_count": 77,
   "id": "5991321d",
   "metadata": {},
   "outputs": [
    {
     "data": {
      "image/png": "[encoded data removed]",
      "text/plain": [
       "<Figure size 640x480 with 1 Axes>"
      ]
     },
     "metadata": {},
     "output_type": "display_data"
    }
   ],
   "source": [
    "sns.boxplot(x=diamonds['price'])\n",
    "plt.show()"
   ]
  },
  {
   "cell_type": "markdown",
   "id": "bcf03dfa",
   "metadata": {},
   "source": [
    "# what is the count of premium diamonds in the dataset?"
   ]
  },
  {
   "cell_type": "code",
   "execution_count": 63,
   "id": "11bff12e",
   "metadata": {},
   "outputs": [
    {
     "name": "stdout",
     "output_type": "stream",
     "text": [
      "Count of premium diamonds in the dataset: 13791\n"
     ]
    }
   ],
   "source": [
    "premium_count = diamonds[diamonds['cut'] == 'Premium'].shape[0]\n",
    "print(\"Count of premium diamonds in the dataset:\", premium_count)"
   ]
  },
  {
   "cell_type": "markdown",
   "id": "39a02c89",
   "metadata": {},
   "source": [
    "# What is the average price of diamonds?"
   ]
  },
  {
   "cell_type": "code",
   "execution_count": 64,
   "id": "e2261bcf",
   "metadata": {},
   "outputs": [
    {
     "name": "stdout",
     "output_type": "stream",
     "text": [
      "Average price of diamonds: 3932.799721913237\n"
     ]
    }
   ],
   "source": [
    "avg_price = diamonds['price'].mean()\n",
    "print(\"Average price of diamonds:\", avg_price)"
   ]
  },
  {
   "cell_type": "markdown",
   "id": "9569f35b",
   "metadata": {},
   "source": [
    "# Create a new column called \"size = x*y*z\""
   ]
  },
  {
   "cell_type": "code",
   "execution_count": 66,
   "id": "ab35e6ad",
   "metadata": {},
   "outputs": [],
   "source": [
    "diamonds['size'] = diamonds.apply(lambda row: row['x'] * row['y'] * row['z'], axis=1)"
   ]
  },
  {
   "cell_type": "code",
   "execution_count": 67,
   "id": "c6654a9b",
   "metadata": {},
   "outputs": [
    {
     "data": {
      "text/html": [
       "<div>\n",
       "<style scoped>\n",
       "    .dataframe tbody tr th:only-of-type {\n",
       "        vertical-align: middle;\n",
       "    }\n",
       "\n",
       "    .dataframe tbody tr th {\n",
       "        vertical-align: top;\n",
       "    }\n",
       "\n",
       "    .dataframe thead th {\n",
       "        text-align: right;\n",
       "    }\n",
       "</style>\n",
       "<table border=\"1\" class=\"dataframe\">\n",
       "  <thead>\n",
       "    <tr style=\"text-align: right;\">\n",
       "      <th></th>\n",
       "      <th>carat</th>\n",
       "      <th>cut</th>\n",
       "      <th>color</th>\n",
       "      <th>clarity</th>\n",
       "      <th>depth</th>\n",
       "      <th>table</th>\n",
       "      <th>price</th>\n",
       "      <th>x</th>\n",
       "      <th>y</th>\n",
       "      <th>z</th>\n",
       "      <th>size</th>\n",
       "    </tr>\n",
       "  </thead>\n",
       "  <tbody>\n",
       "    <tr>\n",
       "      <th>0</th>\n",
       "      <td>0.23</td>\n",
       "      <td>Ideal</td>\n",
       "      <td>E</td>\n",
       "      <td>SI2</td>\n",
       "      <td>61.5</td>\n",
       "      <td>55.0</td>\n",
       "      <td>326</td>\n",
       "      <td>3.95</td>\n",
       "      <td>3.98</td>\n",
       "      <td>2.43</td>\n",
       "      <td>38.202030</td>\n",
       "    </tr>\n",
       "    <tr>\n",
       "      <th>1</th>\n",
       "      <td>0.21</td>\n",
       "      <td>Premium</td>\n",
       "      <td>E</td>\n",
       "      <td>SI1</td>\n",
       "      <td>59.8</td>\n",
       "      <td>61.0</td>\n",
       "      <td>326</td>\n",
       "      <td>3.89</td>\n",
       "      <td>3.84</td>\n",
       "      <td>2.31</td>\n",
       "      <td>34.505856</td>\n",
       "    </tr>\n",
       "    <tr>\n",
       "      <th>2</th>\n",
       "      <td>0.23</td>\n",
       "      <td>Good</td>\n",
       "      <td>E</td>\n",
       "      <td>VS1</td>\n",
       "      <td>56.9</td>\n",
       "      <td>65.0</td>\n",
       "      <td>327</td>\n",
       "      <td>4.05</td>\n",
       "      <td>4.07</td>\n",
       "      <td>2.31</td>\n",
       "      <td>38.076885</td>\n",
       "    </tr>\n",
       "    <tr>\n",
       "      <th>3</th>\n",
       "      <td>0.29</td>\n",
       "      <td>Premium</td>\n",
       "      <td>I</td>\n",
       "      <td>VS2</td>\n",
       "      <td>62.4</td>\n",
       "      <td>58.0</td>\n",
       "      <td>334</td>\n",
       "      <td>4.20</td>\n",
       "      <td>4.23</td>\n",
       "      <td>2.63</td>\n",
       "      <td>46.724580</td>\n",
       "    </tr>\n",
       "    <tr>\n",
       "      <th>4</th>\n",
       "      <td>0.31</td>\n",
       "      <td>Good</td>\n",
       "      <td>J</td>\n",
       "      <td>SI2</td>\n",
       "      <td>63.3</td>\n",
       "      <td>58.0</td>\n",
       "      <td>335</td>\n",
       "      <td>4.34</td>\n",
       "      <td>4.35</td>\n",
       "      <td>2.75</td>\n",
       "      <td>51.917250</td>\n",
       "    </tr>\n",
       "    <tr>\n",
       "      <th>...</th>\n",
       "      <td>...</td>\n",
       "      <td>...</td>\n",
       "      <td>...</td>\n",
       "      <td>...</td>\n",
       "      <td>...</td>\n",
       "      <td>...</td>\n",
       "      <td>...</td>\n",
       "      <td>...</td>\n",
       "      <td>...</td>\n",
       "      <td>...</td>\n",
       "      <td>...</td>\n",
       "    </tr>\n",
       "    <tr>\n",
       "      <th>53935</th>\n",
       "      <td>0.72</td>\n",
       "      <td>Ideal</td>\n",
       "      <td>D</td>\n",
       "      <td>SI1</td>\n",
       "      <td>60.8</td>\n",
       "      <td>57.0</td>\n",
       "      <td>2757</td>\n",
       "      <td>5.75</td>\n",
       "      <td>5.76</td>\n",
       "      <td>3.50</td>\n",
       "      <td>115.920000</td>\n",
       "    </tr>\n",
       "    <tr>\n",
       "      <th>53936</th>\n",
       "      <td>0.72</td>\n",
       "      <td>Good</td>\n",
       "      <td>D</td>\n",
       "      <td>SI1</td>\n",
       "      <td>63.1</td>\n",
       "      <td>55.0</td>\n",
       "      <td>2757</td>\n",
       "      <td>5.69</td>\n",
       "      <td>5.75</td>\n",
       "      <td>3.61</td>\n",
       "      <td>118.110175</td>\n",
       "    </tr>\n",
       "    <tr>\n",
       "      <th>53937</th>\n",
       "      <td>0.70</td>\n",
       "      <td>Very Good</td>\n",
       "      <td>D</td>\n",
       "      <td>SI1</td>\n",
       "      <td>62.8</td>\n",
       "      <td>60.0</td>\n",
       "      <td>2757</td>\n",
       "      <td>5.66</td>\n",
       "      <td>5.68</td>\n",
       "      <td>3.56</td>\n",
       "      <td>114.449728</td>\n",
       "    </tr>\n",
       "    <tr>\n",
       "      <th>53938</th>\n",
       "      <td>0.86</td>\n",
       "      <td>Premium</td>\n",
       "      <td>H</td>\n",
       "      <td>SI2</td>\n",
       "      <td>61.0</td>\n",
       "      <td>58.0</td>\n",
       "      <td>2757</td>\n",
       "      <td>6.15</td>\n",
       "      <td>6.12</td>\n",
       "      <td>3.74</td>\n",
       "      <td>140.766120</td>\n",
       "    </tr>\n",
       "    <tr>\n",
       "      <th>53939</th>\n",
       "      <td>0.75</td>\n",
       "      <td>Ideal</td>\n",
       "      <td>D</td>\n",
       "      <td>SI2</td>\n",
       "      <td>62.2</td>\n",
       "      <td>55.0</td>\n",
       "      <td>2757</td>\n",
       "      <td>5.83</td>\n",
       "      <td>5.87</td>\n",
       "      <td>3.64</td>\n",
       "      <td>124.568444</td>\n",
       "    </tr>\n",
       "  </tbody>\n",
       "</table>\n",
       "<p>53940 rows × 11 columns</p>\n",
       "</div>"
      ],
      "text/plain": [
       "       carat        cut color clarity  depth  table  price     x     y     z  \\\n",
       "0       0.23      Ideal     E     SI2   61.5   55.0    326  3.95  3.98  2.43   \n",
       "1       0.21    Premium     E     SI1   59.8   61.0    326  3.89  3.84  2.31   \n",
       "2       0.23       Good     E     VS1   56.9   65.0    327  4.05  4.07  2.31   \n",
       "3       0.29    Premium     I     VS2   62.4   58.0    334  4.20  4.23  2.63   \n",
       "4       0.31       Good     J     SI2   63.3   58.0    335  4.34  4.35  2.75   \n",
       "...      ...        ...   ...     ...    ...    ...    ...   ...   ...   ...   \n",
       "53935   0.72      Ideal     D     SI1   60.8   57.0   2757  5.75  5.76  3.50   \n",
       "53936   0.72       Good     D     SI1   63.1   55.0   2757  5.69  5.75  3.61   \n",
       "53937   0.70  Very Good     D     SI1   62.8   60.0   2757  5.66  5.68  3.56   \n",
       "53938   0.86    Premium     H     SI2   61.0   58.0   2757  6.15  6.12  3.74   \n",
       "53939   0.75      Ideal     D     SI2   62.2   55.0   2757  5.83  5.87  3.64   \n",
       "\n",
       "             size  \n",
       "0       38.202030  \n",
       "1       34.505856  \n",
       "2       38.076885  \n",
       "3       46.724580  \n",
       "4       51.917250  \n",
       "...           ...  \n",
       "53935  115.920000  \n",
       "53936  118.110175  \n",
       "53937  114.449728  \n",
       "53938  140.766120  \n",
       "53939  124.568444  \n",
       "\n",
       "[53940 rows x 11 columns]"
      ]
     },
     "execution_count": 67,
     "metadata": {},
     "output_type": "execute_result"
    }
   ],
   "source": [
    "diamonds"
   ]
  },
  {
   "cell_type": "code",
   "execution_count": null,
   "id": "de71cff2",
   "metadata": {},
   "outputs": [],
   "source": []
  }
 ],
 "metadata": {
  "kernelspec": {
   "display_name": "Python 3 (ipykernel)",
   "language": "python",
   "name": "python3"
  },
  "language_info": {
   "codemirror_mode": {
    "name": "ipython",
    "version": 3
   },
   "file_extension": ".py",
   "mimetype": "text/x-python",
   "name": "python",
   "nbconvert_exporter": "python",
   "pygments_lexer": "ipython3",
   "version": "3.10.9"
  }
 },
 "nbformat": 4,
 "nbformat_minor": 5
}
